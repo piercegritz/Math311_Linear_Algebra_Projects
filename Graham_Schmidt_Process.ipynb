{
  "nbformat": 4,
  "nbformat_minor": 0,
  "metadata": {
    "colab": {
      "provenance": [],
      "authorship_tag": "ABX9TyMKJpbX9ZEGLrwHmyoY2lOr",
      "include_colab_link": true
    },
    "kernelspec": {
      "name": "python3",
      "display_name": "Python 3"
    },
    "language_info": {
      "name": "python"
    }
  },
  "cells": [
    {
      "cell_type": "markdown",
      "metadata": {
        "id": "view-in-github",
        "colab_type": "text"
      },
      "source": [
        "<a href=\"https://colab.research.google.com/github/piercegritz/Math311_Linear_Algebra_Projects/blob/main/Graham_Schmidt_Process.ipynb\" target=\"_parent\"><img src=\"https://colab.research.google.com/assets/colab-badge.svg\" alt=\"Open In Colab\"/></a>"
      ]
    },
    {
      "cell_type": "markdown",
      "source": [
        "# Finding Orthonormal Vectors using the Gram Schmidt Orthonormalization Process\n",
        "\n",
        "Starting with the vectors:\n",
        "\n",
        "$$ r_1 = \\left( \\begin{array}{c} 3\\\\ 0\\\\ 3\\\\ 3\\\\ \\end{array} \\right)\n",
        "r_2 = \\left( \\begin{array}{c} 3\\\\ 2\\\\ 3\\\\ 3\\\\ \\end{array} \\right)\n",
        "r_3 = \\left( \\begin{array}{c} -7\\\\ -4\\\\ -5\\\\ -6\\\\ \\end{array} \\right)\n",
        "r_4 = \\left( \\begin{array}{c} -7\\\\ -3\\\\ -11\\\\ 2\\\\ \\end{array} \\right)\n",
        "$$\n",
        "\n"
      ],
      "metadata": {
        "id": "dxR1Jtrbywfv"
      }
    },
    {
      "cell_type": "code",
      "execution_count": 1,
      "metadata": {
        "id": "kCy0QQXuyl1O"
      },
      "outputs": [],
      "source": [
        "import numpy as np"
      ]
    },
    {
      "cell_type": "code",
      "source": [
        "# comment\n",
        "# lets create a vector\n",
        "v = np.matrix('1; 2; 3; 4')\n",
        "v"
      ],
      "metadata": {
        "colab": {
          "base_uri": "https://localhost:8080/"
        },
        "id": "JI5N0b0byyXj",
        "outputId": "b3ff26b4-0451-44e8-ff09-fdaaa2aa7f9d"
      },
      "execution_count": 4,
      "outputs": [
        {
          "output_type": "execute_result",
          "data": {
            "text/plain": [
              "matrix([[1],\n",
              "        [2],\n",
              "        [3],\n",
              "        [4]])"
            ]
          },
          "metadata": {},
          "execution_count": 4
        }
      ]
    },
    {
      "cell_type": "code",
      "source": [
        "v = np.array([1, 2, 3, 4])\n",
        "v2= np.array([0, 0, 1, 0])\n",
        "\n",
        "\n",
        "v\n",
        "\n",
        "v.dot(v)\n",
        "\n",
        "# dot products\n",
        "v.dot(v)\n",
        "\n",
        "#magnitude or size of vectors\n",
        "np.sqrt(9)\n",
        "\n",
        "#magnitude\n",
        "np.sqrt( v.dot(v) )\n",
        "\n",
        "#linear combinations\n",
        "2*v + 3*v2\n",
        "\n",
        "np.linalg.norm(v)"
      ],
      "metadata": {
        "colab": {
          "base_uri": "https://localhost:8080/"
        },
        "id": "Bpd5Ppc81r82",
        "outputId": "9399ff91-ed4f-423a-d126-778106cfea09"
      },
      "execution_count": 11,
      "outputs": [
        {
          "output_type": "execute_result",
          "data": {
            "text/plain": [
              "5.477225575051661"
            ]
          },
          "metadata": {},
          "execution_count": 11
        }
      ]
    },
    {
      "cell_type": "code",
      "source": [
        "# starting four vectors\n",
        "\n",
        "r1 = np.array([3, 0, 3, 0])\n",
        "r2 = np.array([3, 2, 3, 3])\n",
        "r3 = np.array([-7, -4, -5, -6])\n",
        "r4 = np.array([-7, -3, -11, 2])"
      ],
      "metadata": {
        "id": "mD2pd6oo4iHU"
      },
      "execution_count": 12,
      "outputs": []
    },
    {
      "cell_type": "code",
      "source": [
        "# process the first vector\n",
        "# Step 1: select r1 and subtract off all the \"nice\" vectors\n",
        "\n",
        "t1 = r1\n",
        "\n",
        "t1\n",
        "\n",
        "# find magnitude\n",
        "\n",
        "n1 = np.sqrt( t1.dot(t1) )\n",
        "print(\"the magnitude of t1=\", t1, \"is\", n1)\n",
        "\n",
        "# step 3: create nice vector\n",
        "u1 = (1/n1) * t1\n",
        "print(\"u1 = \", u1)"
      ],
      "metadata": {
        "colab": {
          "base_uri": "https://localhost:8080/"
        },
        "id": "06_ZcCB040e4",
        "outputId": "88a9fd9b-3ba4-44fb-b71b-c5628992e773"
      },
      "execution_count": 15,
      "outputs": [
        {
          "output_type": "stream",
          "name": "stdout",
          "text": [
            "the magnitude of t1= [3 0 3 0] is 4.242640687119285\n",
            "u1 =  [0.70710678 0.         0.70710678 0.        ]\n"
          ]
        }
      ]
    },
    {
      "cell_type": "code",
      "source": [
        "# lets check u1\n",
        "# does u1 have size 1\n",
        "print(\"the size of u1 is \", np.sqrt( u1.dot(u1)))"
      ],
      "metadata": {
        "colab": {
          "base_uri": "https://localhost:8080/"
        },
        "id": "YupmwGgi6DVD",
        "outputId": "5b6472cf-8cdf-4351-96fd-06cf9fcb2859"
      },
      "execution_count": 18,
      "outputs": [
        {
          "output_type": "stream",
          "name": "stdout",
          "text": [
            "the size of u1 is  1.0\n"
          ]
        }
      ]
    },
    {
      "cell_type": "code",
      "source": [
        "# Process second Vector\n",
        "t2 = r2 - (r2.dot(u1) * u1)\n",
        "\n",
        "t2\n",
        "\n",
        "# find magnitude\n",
        "\n",
        "n2 = np.sqrt( t2.dot(t2) )\n",
        "print(\"the magnitude of t2=\", t2, \"is\", n2)\n",
        "\n",
        "# step 3: create nice vector\n",
        "u2 = (1/n2) * t2\n",
        "print(\"u2 = \", u2)"
      ],
      "metadata": {
        "colab": {
          "base_uri": "https://localhost:8080/"
        },
        "id": "LC_FSkMB50Ty",
        "outputId": "dae53357-1d63-40ae-95a6-b99f3db0189d"
      },
      "execution_count": 24,
      "outputs": [
        {
          "output_type": "stream",
          "name": "stdout",
          "text": [
            "the magnitude of t2= [-4.4408921e-16  2.0000000e+00 -4.4408921e-16  3.0000000e+00] is 3.605551275463989\n",
            "u2 =  [-1.23168186e-16  5.54700196e-01 -1.23168186e-16  8.32050294e-01]\n"
          ]
        }
      ]
    },
    {
      "cell_type": "code",
      "source": [
        "# lets check u2\n",
        "# does u2 have size 1\n",
        "print(\"the size of u2 is \", np.sqrt( u2.dot(u2)))\n",
        "\n",
        "# is u2 orthogonal to all the other u's\\\n",
        "print(\" is u2 orthogonal to u1?\")"
      ],
      "metadata": {
        "colab": {
          "base_uri": "https://localhost:8080/"
        },
        "id": "qbywbh-N7SlB",
        "outputId": "d84f1978-6312-442b-81f4-25aea2705f3a"
      },
      "execution_count": 25,
      "outputs": [
        {
          "output_type": "stream",
          "name": "stdout",
          "text": [
            "the size of u1 is  1.0\n"
          ]
        }
      ]
    },
    {
      "cell_type": "code",
      "source": [
        "# Process third Vector\n",
        "t3 = r3 - (r3.dot(u1) * u1) - (r3.dot(u2) * u2)\n",
        "\n",
        "t3\n",
        "\n",
        "# find magnitude\n",
        "\n",
        "n3 = np.sqrt( t3.dot(t3) )\n",
        "print(\"the magnitude of t3=\", t3, \"is\", n3)\n",
        "\n",
        "# step 3: create nice vector\n",
        "u3 = (1/n3) * t3\n",
        "print(\"u3 = \", u3)"
      ],
      "metadata": {
        "colab": {
          "base_uri": "https://localhost:8080/"
        },
        "id": "rWu7AeRJ7ltu",
        "outputId": "49cca896-bad6-4706-83d8-549c0809b142"
      },
      "execution_count": 29,
      "outputs": [
        {
          "output_type": "stream",
          "name": "stdout",
          "text": [
            "the magnitude of t3= [-1.0000000e+00 -4.4408921e-16  1.0000000e+00 -8.8817842e-16] is 1.4142135623730951\n",
            "u3 =  [-7.07106781e-01 -3.14018492e-16  7.07106781e-01 -6.28036983e-16]\n"
          ]
        }
      ]
    },
    {
      "cell_type": "code",
      "source": [
        "# lets check u3\n",
        "# does u3 have size 1\n",
        "print(\"the size of u3 is \", np.sqrt( u3.dot(u3)))\n",
        "\n",
        "# is u2 orthogonal to all the other u's\\\n",
        "print(\" is u3 orthogonal to u's?\")"
      ],
      "metadata": {
        "colab": {
          "base_uri": "https://localhost:8080/"
        },
        "id": "6IrPt7mL776l",
        "outputId": "c82453cc-a082-43f3-a768-5baf776ef75b"
      },
      "execution_count": 30,
      "outputs": [
        {
          "output_type": "stream",
          "name": "stdout",
          "text": [
            "the size of u3 is  0.9999999999999999\n",
            " is u3 orthogonal to u's?\n"
          ]
        }
      ]
    },
    {
      "cell_type": "code",
      "source": [
        "# Process fourth Vector\n",
        "t4 = r4 - (r4.dot(u1) * u1) - (r4.dot(u2) * u2) - (r4.dot(u3) * u3)\n",
        "\n",
        "t4\n",
        "\n",
        "# find magnitude\n",
        "\n",
        "n4 = np.sqrt( t4.dot(t4) )\n",
        "print(\"the magnitude of t4=\", t4, \"is\", n4)\n",
        "\n",
        "# step 3: create nice vector\n",
        "u4 = (1/n4) * t4\n",
        "print(\"u4 = \", u4)"
      ],
      "metadata": {
        "colab": {
          "base_uri": "https://localhost:8080/"
        },
        "id": "WJkW4jsx740L",
        "outputId": "e933f510-f89c-436d-a819-b7593824e549"
      },
      "execution_count": 31,
      "outputs": [
        {
          "output_type": "stream",
          "name": "stdout",
          "text": [
            "the magnitude of t4= [ 0. -3.  0.  2.] is 3.605551275463989\n",
            "u4 =  [ 0.         -0.83205029  0.          0.5547002 ]\n"
          ]
        }
      ]
    },
    {
      "cell_type": "code",
      "source": [
        "# lets check u3\n",
        "# does u4 have size 1\n",
        "print(\"the size of u4 is \", np.sqrt( u4.dot(u4)))\n",
        "\n",
        "# is u2 orthogonal to all the other u's\\\n",
        "print(\" is u4 orthogonal to u's?\")"
      ],
      "metadata": {
        "colab": {
          "base_uri": "https://localhost:8080/"
        },
        "id": "DHqQ0oHd8WcB",
        "outputId": "c29ae0f4-faa1-4246-d21d-96084f3d2fac"
      },
      "execution_count": 32,
      "outputs": [
        {
          "output_type": "stream",
          "name": "stdout",
          "text": [
            "the size of u4 is  1.0\n",
            " is u4 orthogonal to u's?\n"
          ]
        }
      ]
    }
  ]
}